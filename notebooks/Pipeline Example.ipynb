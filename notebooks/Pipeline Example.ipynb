{
 "metadata": {
  "language_info": {
   "codemirror_mode": {
    "name": "ipython",
    "version": 3
   },
   "file_extension": ".py",
   "mimetype": "text/x-python",
   "name": "python",
   "nbconvert_exporter": "python",
   "pygments_lexer": "ipython3",
   "version": "3.7.9"
  },
  "orig_nbformat": 2,
  "kernelspec": {
   "name": "python379jvsc74a57bd0bc7f50390e42f6c1331f86e9f26dea63ec7b34656187ee4894a92f7c1595689f",
   "display_name": "Python 3.7.9 64-bit ('base': conda)"
  }
 },
 "nbformat": 4,
 "nbformat_minor": 2,
 "cells": [
  {
   "cell_type": "code",
   "execution_count": 1,
   "metadata": {},
   "outputs": [],
   "source": [
    "from strappy.pipelines.base_pipeline import (\n",
    "    create_transformer_pipeline,\n",
    "    name_tracker\n",
    ")\n",
    "import pandas as pd\n",
    "import numpy as np"
   ]
  },
  {
   "cell_type": "code",
   "execution_count": 2,
   "metadata": {},
   "outputs": [
    {
     "output_type": "execute_result",
     "data": {
      "text/plain": [
       "     x    y                         z\n",
       "0  1.2  nan                 test text\n",
       "1  3.0    h        enjoy your weekend\n",
       "2  NaN    d            more test text\n",
       "3  7.0    b            python is cool\n",
       "4 -3.0    a  more money more problems"
      ],
      "text/html": "<div>\n<style scoped>\n    .dataframe tbody tr th:only-of-type {\n        vertical-align: middle;\n    }\n\n    .dataframe tbody tr th {\n        vertical-align: top;\n    }\n\n    .dataframe thead th {\n        text-align: right;\n    }\n</style>\n<table border=\"1\" class=\"dataframe\">\n  <thead>\n    <tr style=\"text-align: right;\">\n      <th></th>\n      <th>x</th>\n      <th>y</th>\n      <th>z</th>\n    </tr>\n  </thead>\n  <tbody>\n    <tr>\n      <th>0</th>\n      <td>1.2</td>\n      <td>nan</td>\n      <td>test text</td>\n    </tr>\n    <tr>\n      <th>1</th>\n      <td>3.0</td>\n      <td>h</td>\n      <td>enjoy your weekend</td>\n    </tr>\n    <tr>\n      <th>2</th>\n      <td>NaN</td>\n      <td>d</td>\n      <td>more test text</td>\n    </tr>\n    <tr>\n      <th>3</th>\n      <td>7.0</td>\n      <td>b</td>\n      <td>python is cool</td>\n    </tr>\n    <tr>\n      <th>4</th>\n      <td>-3.0</td>\n      <td>a</td>\n      <td>more money more problems</td>\n    </tr>\n  </tbody>\n</table>\n</div>"
     },
     "metadata": {},
     "execution_count": 2
    }
   ],
   "source": [
    "N = 100\n",
    "np.random.seed(42)\n",
    "df = pd.DataFrame({\n",
    "    'x' : [1.2,3,np.nan,7,-3,np.nan,1.2383,0.32,-50,300] * int(N/10),\n",
    "    'y' : np.random.choice(\n",
    "        ['a'] + [np.nan] + list(\"bcdefghi\"),\n",
    "        size=N, p=[0.3,0.2,0.1,0.1,0.1,0.05,0.05,0.05,0.025,0.025]),\n",
    "    'z': np.random.choice(\n",
    "        ['test text','more test text','python is cool','enjoy your weekend',\n",
    "        'that movie was ok','go to the moon', 'the movie was cool','more money more problems',\n",
    "        \"let's go\", 'see you soon'],\n",
    "        size=N, p=[0.3,0.2,0.1,0.1,0.1,0.05,0.05,0.05,0.025,0.025])\n",
    "})\n",
    "\n",
    "df.head()"
   ]
  },
  {
   "cell_type": "code",
   "execution_count": 3,
   "metadata": {},
   "outputs": [],
   "source": [
    "p = create_transformer_pipeline(text_cols=['z'])"
   ]
  },
  {
   "cell_type": "code",
   "execution_count": 4,
   "metadata": {},
   "outputs": [
    {
     "output_type": "stream",
     "name": "stderr",
     "text": [
      "C:\\Users\\grego\\Anaconda3\\lib\\site-packages\\feature_engine\\encoding\\rare_label.py:160: UserWarning: The number of unique categories for variable y is less than that indicated in n_categories. Thus, all categories will be considered frequent\n  \"considered frequent\".format(var)\n"
     ]
    }
   ],
   "source": [
    "p = p.fit(df)"
   ]
  },
  {
   "cell_type": "code",
   "execution_count": 5,
   "metadata": {},
   "outputs": [
    {
     "output_type": "stream",
     "name": "stderr",
     "text": [
      "C:\\Users\\grego\\Anaconda3\\lib\\site-packages\\feature_engine\\encoding\\rare_label.py:160: UserWarning: The number of unique categories for variable y is less than that indicated in n_categories. Thus, all categories will be considered frequent\n  \"considered frequent\".format(var)\n"
     ]
    },
    {
     "output_type": "execute_result",
     "data": {
      "text/plain": [
       "final_cols         x  x_na  y_nan  y_h  y_d  y_b  y_a  y_f  y_c  y_e  ...  \\\n",
       "0             1.2000   0.0    1.0  0.0  0.0  0.0  0.0  0.0  0.0  0.0  ...   \n",
       "1             3.0000   0.0    0.0  1.0  0.0  0.0  0.0  0.0  0.0  0.0  ...   \n",
       "2             0.0000   1.0    0.0  0.0  1.0  0.0  0.0  0.0  0.0  0.0  ...   \n",
       "3             7.0000   0.0    0.0  0.0  0.0  1.0  0.0  0.0  0.0  0.0  ...   \n",
       "4            -3.0000   0.0    0.0  0.0  0.0  0.0  1.0  0.0  0.0  0.0  ...   \n",
       "..               ...   ...    ...  ...  ...  ...  ...  ...  ...  ...  ...   \n",
       "95            0.0000   1.0    1.0  0.0  0.0  0.0  0.0  0.0  0.0  0.0  ...   \n",
       "96            1.2383   0.0    0.0  0.0  0.0  1.0  0.0  0.0  0.0  0.0  ...   \n",
       "97            0.3200   0.0    1.0  0.0  0.0  0.0  0.0  0.0  0.0  0.0  ...   \n",
       "98          -50.0000   0.0    0.0  0.0  0.0  0.0  1.0  0.0  0.0  0.0  ...   \n",
       "99          300.0000   0.0    0.0  0.0  0.0  0.0  1.0  0.0  0.0  0.0  ...   \n",
       "\n",
       "final_cols  z_soon    z_test    z_text    z_that     z_the  z_to     z_was  \\\n",
       "0              0.0  0.707107  0.707107  0.000000  0.000000   0.0  0.000000   \n",
       "1              0.0  0.000000  0.000000  0.000000  0.000000   0.0  0.000000   \n",
       "2              0.0  0.501278  0.501278  0.000000  0.000000   0.0  0.000000   \n",
       "3              0.0  0.000000  0.000000  0.000000  0.000000   0.0  0.000000   \n",
       "4              0.0  0.000000  0.000000  0.000000  0.000000   0.0  0.000000   \n",
       "..             ...       ...       ...       ...       ...   ...       ...   \n",
       "95             0.0  0.501278  0.501278  0.000000  0.000000   0.0  0.000000   \n",
       "96             0.0  0.000000  0.000000  0.554237  0.000000   0.0  0.439115   \n",
       "97             0.0  0.000000  0.000000  0.000000  0.510046   0.0  0.510046   \n",
       "98             0.0  0.000000  0.000000  0.000000  0.510046   0.0  0.510046   \n",
       "99             0.0  0.000000  0.000000  0.554237  0.000000   0.0  0.439115   \n",
       "\n",
       "final_cols  z_weekend  z_you   z_your  \n",
       "0             0.00000    0.0  0.00000  \n",
       "1             0.57735    0.0  0.57735  \n",
       "2             0.00000    0.0  0.00000  \n",
       "3             0.00000    0.0  0.00000  \n",
       "4             0.00000    0.0  0.00000  \n",
       "..                ...    ...      ...  \n",
       "95            0.00000    0.0  0.00000  \n",
       "96            0.00000    0.0  0.00000  \n",
       "97            0.00000    0.0  0.00000  \n",
       "98            0.00000    0.0  0.00000  \n",
       "99            0.00000    0.0  0.00000  \n",
       "\n",
       "[100 rows x 35 columns]"
      ],
      "text/html": "<div>\n<style scoped>\n    .dataframe tbody tr th:only-of-type {\n        vertical-align: middle;\n    }\n\n    .dataframe tbody tr th {\n        vertical-align: top;\n    }\n\n    .dataframe thead th {\n        text-align: right;\n    }\n</style>\n<table border=\"1\" class=\"dataframe\">\n  <thead>\n    <tr style=\"text-align: right;\">\n      <th>final_cols</th>\n      <th>x</th>\n      <th>x_na</th>\n      <th>y_nan</th>\n      <th>y_h</th>\n      <th>y_d</th>\n      <th>y_b</th>\n      <th>y_a</th>\n      <th>y_f</th>\n      <th>y_c</th>\n      <th>y_e</th>\n      <th>...</th>\n      <th>z_soon</th>\n      <th>z_test</th>\n      <th>z_text</th>\n      <th>z_that</th>\n      <th>z_the</th>\n      <th>z_to</th>\n      <th>z_was</th>\n      <th>z_weekend</th>\n      <th>z_you</th>\n      <th>z_your</th>\n    </tr>\n  </thead>\n  <tbody>\n    <tr>\n      <th>0</th>\n      <td>1.2000</td>\n      <td>0.0</td>\n      <td>1.0</td>\n      <td>0.0</td>\n      <td>0.0</td>\n      <td>0.0</td>\n      <td>0.0</td>\n      <td>0.0</td>\n      <td>0.0</td>\n      <td>0.0</td>\n      <td>...</td>\n      <td>0.0</td>\n      <td>0.707107</td>\n      <td>0.707107</td>\n      <td>0.000000</td>\n      <td>0.000000</td>\n      <td>0.0</td>\n      <td>0.000000</td>\n      <td>0.00000</td>\n      <td>0.0</td>\n      <td>0.00000</td>\n    </tr>\n    <tr>\n      <th>1</th>\n      <td>3.0000</td>\n      <td>0.0</td>\n      <td>0.0</td>\n      <td>1.0</td>\n      <td>0.0</td>\n      <td>0.0</td>\n      <td>0.0</td>\n      <td>0.0</td>\n      <td>0.0</td>\n      <td>0.0</td>\n      <td>...</td>\n      <td>0.0</td>\n      <td>0.000000</td>\n      <td>0.000000</td>\n      <td>0.000000</td>\n      <td>0.000000</td>\n      <td>0.0</td>\n      <td>0.000000</td>\n      <td>0.57735</td>\n      <td>0.0</td>\n      <td>0.57735</td>\n    </tr>\n    <tr>\n      <th>2</th>\n      <td>0.0000</td>\n      <td>1.0</td>\n      <td>0.0</td>\n      <td>0.0</td>\n      <td>1.0</td>\n      <td>0.0</td>\n      <td>0.0</td>\n      <td>0.0</td>\n      <td>0.0</td>\n      <td>0.0</td>\n      <td>...</td>\n      <td>0.0</td>\n      <td>0.501278</td>\n      <td>0.501278</td>\n      <td>0.000000</td>\n      <td>0.000000</td>\n      <td>0.0</td>\n      <td>0.000000</td>\n      <td>0.00000</td>\n      <td>0.0</td>\n      <td>0.00000</td>\n    </tr>\n    <tr>\n      <th>3</th>\n      <td>7.0000</td>\n      <td>0.0</td>\n      <td>0.0</td>\n      <td>0.0</td>\n      <td>0.0</td>\n      <td>1.0</td>\n      <td>0.0</td>\n      <td>0.0</td>\n      <td>0.0</td>\n      <td>0.0</td>\n      <td>...</td>\n      <td>0.0</td>\n      <td>0.000000</td>\n      <td>0.000000</td>\n      <td>0.000000</td>\n      <td>0.000000</td>\n      <td>0.0</td>\n      <td>0.000000</td>\n      <td>0.00000</td>\n      <td>0.0</td>\n      <td>0.00000</td>\n    </tr>\n    <tr>\n      <th>4</th>\n      <td>-3.0000</td>\n      <td>0.0</td>\n      <td>0.0</td>\n      <td>0.0</td>\n      <td>0.0</td>\n      <td>0.0</td>\n      <td>1.0</td>\n      <td>0.0</td>\n      <td>0.0</td>\n      <td>0.0</td>\n      <td>...</td>\n      <td>0.0</td>\n      <td>0.000000</td>\n      <td>0.000000</td>\n      <td>0.000000</td>\n      <td>0.000000</td>\n      <td>0.0</td>\n      <td>0.000000</td>\n      <td>0.00000</td>\n      <td>0.0</td>\n      <td>0.00000</td>\n    </tr>\n    <tr>\n      <th>...</th>\n      <td>...</td>\n      <td>...</td>\n      <td>...</td>\n      <td>...</td>\n      <td>...</td>\n      <td>...</td>\n      <td>...</td>\n      <td>...</td>\n      <td>...</td>\n      <td>...</td>\n      <td>...</td>\n      <td>...</td>\n      <td>...</td>\n      <td>...</td>\n      <td>...</td>\n      <td>...</td>\n      <td>...</td>\n      <td>...</td>\n      <td>...</td>\n      <td>...</td>\n      <td>...</td>\n    </tr>\n    <tr>\n      <th>95</th>\n      <td>0.0000</td>\n      <td>1.0</td>\n      <td>1.0</td>\n      <td>0.0</td>\n      <td>0.0</td>\n      <td>0.0</td>\n      <td>0.0</td>\n      <td>0.0</td>\n      <td>0.0</td>\n      <td>0.0</td>\n      <td>...</td>\n      <td>0.0</td>\n      <td>0.501278</td>\n      <td>0.501278</td>\n      <td>0.000000</td>\n      <td>0.000000</td>\n      <td>0.0</td>\n      <td>0.000000</td>\n      <td>0.00000</td>\n      <td>0.0</td>\n      <td>0.00000</td>\n    </tr>\n    <tr>\n      <th>96</th>\n      <td>1.2383</td>\n      <td>0.0</td>\n      <td>0.0</td>\n      <td>0.0</td>\n      <td>0.0</td>\n      <td>1.0</td>\n      <td>0.0</td>\n      <td>0.0</td>\n      <td>0.0</td>\n      <td>0.0</td>\n      <td>...</td>\n      <td>0.0</td>\n      <td>0.000000</td>\n      <td>0.000000</td>\n      <td>0.554237</td>\n      <td>0.000000</td>\n      <td>0.0</td>\n      <td>0.439115</td>\n      <td>0.00000</td>\n      <td>0.0</td>\n      <td>0.00000</td>\n    </tr>\n    <tr>\n      <th>97</th>\n      <td>0.3200</td>\n      <td>0.0</td>\n      <td>1.0</td>\n      <td>0.0</td>\n      <td>0.0</td>\n      <td>0.0</td>\n      <td>0.0</td>\n      <td>0.0</td>\n      <td>0.0</td>\n      <td>0.0</td>\n      <td>...</td>\n      <td>0.0</td>\n      <td>0.000000</td>\n      <td>0.000000</td>\n      <td>0.000000</td>\n      <td>0.510046</td>\n      <td>0.0</td>\n      <td>0.510046</td>\n      <td>0.00000</td>\n      <td>0.0</td>\n      <td>0.00000</td>\n    </tr>\n    <tr>\n      <th>98</th>\n      <td>-50.0000</td>\n      <td>0.0</td>\n      <td>0.0</td>\n      <td>0.0</td>\n      <td>0.0</td>\n      <td>0.0</td>\n      <td>1.0</td>\n      <td>0.0</td>\n      <td>0.0</td>\n      <td>0.0</td>\n      <td>...</td>\n      <td>0.0</td>\n      <td>0.000000</td>\n      <td>0.000000</td>\n      <td>0.000000</td>\n      <td>0.510046</td>\n      <td>0.0</td>\n      <td>0.510046</td>\n      <td>0.00000</td>\n      <td>0.0</td>\n      <td>0.00000</td>\n    </tr>\n    <tr>\n      <th>99</th>\n      <td>300.0000</td>\n      <td>0.0</td>\n      <td>0.0</td>\n      <td>0.0</td>\n      <td>0.0</td>\n      <td>0.0</td>\n      <td>1.0</td>\n      <td>0.0</td>\n      <td>0.0</td>\n      <td>0.0</td>\n      <td>...</td>\n      <td>0.0</td>\n      <td>0.000000</td>\n      <td>0.000000</td>\n      <td>0.554237</td>\n      <td>0.000000</td>\n      <td>0.0</td>\n      <td>0.439115</td>\n      <td>0.00000</td>\n      <td>0.0</td>\n      <td>0.00000</td>\n    </tr>\n  </tbody>\n</table>\n<p>100 rows × 35 columns</p>\n</div>"
     },
     "metadata": {},
     "execution_count": 5
    }
   ],
   "source": [
    "pd.DataFrame(p.fit_transform(df), columns = name_tracker(p,df).final_cols)"
   ]
  },
  {
   "cell_type": "code",
   "execution_count": 6,
   "metadata": {},
   "outputs": [
    {
     "output_type": "execute_result",
     "data": {
      "text/plain": [
       "   final_cols cols_in\n",
       "0           x       x\n",
       "1        x_na       x\n",
       "2       y_nan       y\n",
       "3         y_h       y\n",
       "4         y_d       y\n",
       "5         y_b       y\n",
       "6         y_a       y\n",
       "7         y_f       y\n",
       "8         y_c       y\n",
       "9         y_e       y\n",
       "10        y_g       y\n",
       "11        y_i       y"
      ],
      "text/html": "<div>\n<style scoped>\n    .dataframe tbody tr th:only-of-type {\n        vertical-align: middle;\n    }\n\n    .dataframe tbody tr th {\n        vertical-align: top;\n    }\n\n    .dataframe thead th {\n        text-align: right;\n    }\n</style>\n<table border=\"1\" class=\"dataframe\">\n  <thead>\n    <tr style=\"text-align: right;\">\n      <th></th>\n      <th>final_cols</th>\n      <th>cols_in</th>\n    </tr>\n  </thead>\n  <tbody>\n    <tr>\n      <th>0</th>\n      <td>x</td>\n      <td>x</td>\n    </tr>\n    <tr>\n      <th>1</th>\n      <td>x_na</td>\n      <td>x</td>\n    </tr>\n    <tr>\n      <th>2</th>\n      <td>y_nan</td>\n      <td>y</td>\n    </tr>\n    <tr>\n      <th>3</th>\n      <td>y_h</td>\n      <td>y</td>\n    </tr>\n    <tr>\n      <th>4</th>\n      <td>y_d</td>\n      <td>y</td>\n    </tr>\n    <tr>\n      <th>5</th>\n      <td>y_b</td>\n      <td>y</td>\n    </tr>\n    <tr>\n      <th>6</th>\n      <td>y_a</td>\n      <td>y</td>\n    </tr>\n    <tr>\n      <th>7</th>\n      <td>y_f</td>\n      <td>y</td>\n    </tr>\n    <tr>\n      <th>8</th>\n      <td>y_c</td>\n      <td>y</td>\n    </tr>\n    <tr>\n      <th>9</th>\n      <td>y_e</td>\n      <td>y</td>\n    </tr>\n    <tr>\n      <th>10</th>\n      <td>y_g</td>\n      <td>y</td>\n    </tr>\n    <tr>\n      <th>11</th>\n      <td>y_i</td>\n      <td>y</td>\n    </tr>\n  </tbody>\n</table>\n</div>"
     },
     "metadata": {},
     "execution_count": 6
    }
   ],
   "source": [
    "name_tracker(p,df)"
   ]
  }
 ]
}